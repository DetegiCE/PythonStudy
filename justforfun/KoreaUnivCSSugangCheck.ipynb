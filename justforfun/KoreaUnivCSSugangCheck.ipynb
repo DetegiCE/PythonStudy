{
 "cells": [
  {
   "cell_type": "code",
   "execution_count": 1,
   "metadata": {},
   "outputs": [],
   "source": [
    "#-*- coding: utf-8 -*-\n",
    "\n",
    "from selenium import webdriver\n",
    "from datetime import datetime\n",
    "import io\n",
    "import selenium as se\n",
    "\n",
    "path = \"C:\\\\Users\\\\USER\\\\Desktop\\\\chromedriver.exe\"\n",
    "\n",
    "driver = webdriver.Chrome(path)"
   ]
  },
  {
   "cell_type": "code",
   "execution_count": 2,
   "metadata": {},
   "outputs": [],
   "source": [
    "url = \"http://sugang.korea.ac.kr/\""
   ]
  },
  {
   "cell_type": "code",
   "execution_count": 6,
   "metadata": {},
   "outputs": [],
   "source": [
    "driver.get(url)\n",
    "#여기까지 실행 후 직접 로그인"
   ]
  },
  {
   "cell_type": "code",
   "execution_count": 10,
   "metadata": {},
   "outputs": [],
   "source": [
    "cid = [\"21101\", \"21102\", \"21301\", \"21302\", \"21303\", \"21401\", \"21402\", \"21501\", \"22101\",\n",
    "       \"22102\", \"22103\", \"22200\", \"31200\", \"32100\", \"33100\", \"34101\", \"34102\", \"34200\",\n",
    "       \"36101\", \"36102\", \"36300\", \"37101\", \"37102\", \"38500\", \"38900\", \"41200\", \"42100\",\n",
    "       \"42301\", \"42302\", \"44100\", \"46101\", \"47101\", \"47102\", \"48500\", \"48700\", \"48800\"]\n",
    "test = [\"21101\"]"
   ]
  },
  {
   "cell_type": "code",
   "execution_count": 11,
   "metadata": {},
   "outputs": [],
   "source": [
    "newurl = \"http://sugang.korea.ac.kr/lecture/LecLmtInfoWish.jsp?courcd=COSE\""
   ]
  },
  {
   "cell_type": "code",
   "execution_count": 23,
   "metadata": {},
   "outputs": [
    {
     "name": "stdout",
     "output_type": "stream",
     "text": [
      "학수번호\t1신청\t1정원\t2신청\t2정원\t3신청\t3정원\t4신청\t4정원\t교신청\t교정원\t원신청\t원정원\t전신청\t전정원\n",
      "COSE211-01\t0\t-\t19\t-\t53\t-\t41\t-\t7\t13\t0\t-\t120\t87 + 13\n",
      "COSE211-02\t16\t-\t64\t-\t10\t-\t6\t-\t4\t13\t0\t-\t100\t87 + 13\n",
      "COSE213-01\t10\t-\t55\t-\t18\t-\t11\t-\t2\t4\t0\t-\t96\t96 + 4\n",
      "COSE213-02\t20\t-\t32\t-\t17\t-\t10\t-\t10\t13\t0\t-\t89\t87 + 13\n",
      "COSE213-03\t2\t-\t2\t-\t0\t-\t3\t-\t0\t4\t0\t-\t7\t96 + 4\n",
      "COSE214-01\t14\t-\t48\t-\t11\t-\t2\t-\t10\t11\t0\t-\t85\t76 + 11\n",
      "COSE214-02\t6\t-\t21\t-\t3\t-\t3\t-\t1\t4\t0\t-\t34\t96 + 4\n",
      "COSE215-01\t20\t-\t85\t-\t36\t-\t18\t-\t6\t13\t0\t-\t165\t87 + 13\n",
      "COSE221-01\t15\t-\t63\t-\t10\t-\t5\t-\t0\t13\t0\t-\t93\t87 + 13\n",
      "COSE221-02\t10\t-\t35\t-\t22\t-\t9\t-\t1\t4\t0\t-\t77\t83 + 4\n",
      "COSE221-03\t1\t-\t4\t-\t3\t-\t4\t-\t2\t4\t0\t-\t14\t96 + 4\n",
      "COSE222-00\t1\t-\t7\t-\t15\t-\t13\t-\t1\t4\t0\t-\t37\t96 + 4\n",
      "COSE312-00\t0\t-\t5\t-\t28\t-\t34\t-\t0\t4\t0\t-\t67\t96 + 4\n",
      "COSE321-00\t0\t-\t5\t-\t25\t-\t17\t-\t1\t9\t0\t-\t48\t64 + 9\n",
      "COSE331-00\t0\t-\t18\t-\t81\t-\t48\t-\t3\t4\t0\t-\t150\t96 + 4\n",
      "COSE341-01\t1\t-\t16\t-\t103\t-\t24\t-\t5\t4\t0\t-\t149\t96 + 4\n",
      "COSE341-02\t0\t-\t3\t-\t6\t-\t6\t-\t0\t3\t0\t-\t15\t73 + 3\n",
      "COSE342-00\t0\t-\t8\t-\t24\t-\t25\t-\t1\t4\t0\t-\t58\t96 + 4\n",
      "COSE361-01\t0\t-\t21\t-\t67\t-\t22\t-\t4\t4\t0\t-\t114\t96 + 4\n",
      "COSE361-02\t1\t-\t7\t-\t25\t-\t15\t-\t7\t13\t0\t-\t55\t87 + 13\n",
      "COSE363-00\t1\t-\t7\t-\t70\t-\t73\t-\t1\t4\t0\t-\t152\t96 + 4\n",
      "COSE371-01\t1\t-\t22\t-\t51\t-\t18\t-\t1\t4\t0\t-\t93\t96 + 4\n",
      "COSE371-02\t0\t-\t28\t-\t58\t-\t14\t-\t3\t4\t0\t-\t103\t96 + 4\n",
      "COSE385-00\t0\t-\t1\t-\t13\t-\t19\t-\t0\t3\t0\t-\t33\t74 + 3\n",
      "COSE389-00\t0\t-\t5\t-\t17\t-\t19\t-\t0\t2\t0\t-\t41\t45 + 2\n",
      "COSE412-00\t0\t-\t0\t-\t1\t-\t3\t-\t0\t0\t0\t-\t4\t60 + 0\n",
      "COSE421-00\t0\t-\t1\t-\t7\t-\t15\t-\t1\t1\t0\t-\t24\t39 + 1\n",
      "COSE423-01\t0\t-\t1\t-\t26\t-\t35\t-\t0\t4\t0\t-\t62\t83 + 4\n",
      "COSE423-02\t0\t-\t0\t-\t9\t-\t21\t-\t0\t4\t0\t-\t30\t96 + 4\n",
      "COSE441-00\t1\t-\t2\t-\t36\t-\t58\t-\t3\t11\t0\t-\t100\t75 + 11\n",
      "COSE461-01\t0\t-\t0\t-\t15\t-\t50\t-\t0\t3\t0\t-\t65\t70 + 3\n",
      "COSE471-01\t2\t-\t3\t-\t38\t-\t64\t-\t4\t11\t0\t-\t111\t75 + 11\n",
      "COSE471-02\t0\t-\t2\t-\t3\t-\t6\t-\t1\t4\t0\t-\t12\t83 + 4\n",
      "COSE485-00\t0\t-\t1\t-\t19\t-\t41\t-\t1\t4\t0\t-\t62\t96 + 4\n",
      "COSE487-00\t0\t-\t0\t-\t8\t-\t33\t-\t0\t0\t0\t-\t41\t60 + 0\n",
      "COSE488-00\t0\t-\t0\t-\t1\t-\t7\t-\t0\t0\t0\t-\t8\t60 + 0\n"
     ]
    }
   ],
   "source": [
    "print(\"학수번호\\t1신청\\t1정원\\t2신청\\t2정원\\t3신청\\t3정원\\t4신청\\t4정원\\t교신청\\t교정원\\t원신청\\t원정원\\t전신청\\t전정원\")\n",
    "\n",
    "for i in cid:\n",
    "    newurl = \"http://sugang.korea.ac.kr/lecture/LecLmtInfoWish.jsp?courcd=COSE\"\n",
    "    newurl = newurl + str(i[0:3]) + \"&courcls=\" + str(i[3:5]) + \"&year=2020&term=1R\"\n",
    "    driver.get(newurl)\n",
    "    driver.implicitly_wait(10)\n",
    "    \n",
    "    e = driver.find_elements_by_xpath(\"/html/body/div/div[2]/span\")\n",
    "    print(e[0].text, end='\\t')\n",
    "    \n",
    "    p1 = driver.find_elements_by_xpath(\"/html/body/div/table/tbody/tr[2]/td[2]\")\n",
    "    q1 = driver.find_elements_by_xpath(\"/html/body/div/table/tbody/tr[2]/td[3]\")\n",
    "    print(p1[0].text+\"\\t\"+q1[0].text, end='\\t')\n",
    "    \n",
    "    p1 = driver.find_elements_by_xpath(\"/html/body/div/table/tbody/tr[3]/td[2]\")\n",
    "    q1 = driver.find_elements_by_xpath(\"/html/body/div/table/tbody/tr[3]/td[3]\")\n",
    "    print(p1[0].text+\"\\t\"+q1[0].text, end='\\t')\n",
    "    \n",
    "    p1 = driver.find_elements_by_xpath(\"/html/body/div/table/tbody/tr[4]/td[2]\")\n",
    "    q1 = driver.find_elements_by_xpath(\"/html/body/div/table/tbody/tr[4]/td[3]\")\n",
    "    print(p1[0].text+\"\\t\"+q1[0].text, end='\\t')\n",
    "    \n",
    "    p1 = driver.find_elements_by_xpath(\"/html/body/div/table/tbody/tr[5]/td[2]\")\n",
    "    q1 = driver.find_elements_by_xpath(\"/html/body/div/table/tbody/tr[5]/td[3]\")\n",
    "    print(p1[0].text+\"\\t\"+q1[0].text, end='\\t')\n",
    "    \n",
    "    p1 = driver.find_elements_by_xpath(\"/html/body/div/table/tbody/tr[6]/td[2]\")\n",
    "    q1 = driver.find_elements_by_xpath(\"/html/body/div/table/tbody/tr[6]/td[3]\")\n",
    "    print(p1[0].text+\"\\t\"+q1[0].text, end='\\t')\n",
    "    \n",
    "    p1 = driver.find_elements_by_xpath(\"/html/body/div/table/tbody/tr[7]/td[2]\")\n",
    "    q1 = driver.find_elements_by_xpath(\"/html/body/div/table/tbody/tr[7]/td[3]\")\n",
    "    print(p1[0].text+\"\\t\"+q1[0].text, end='\\t')\n",
    "    \n",
    "    p1 = driver.find_elements_by_xpath(\"/html/body/div/table/tbody/tr[8]/td[2]\")\n",
    "    q1 = driver.find_elements_by_xpath(\"/html/body/div/table/tbody/tr[8]/td[3]\")\n",
    "    print(p1[0].text+\"\\t\"+q1[0].text)"
   ]
  },
  {
   "cell_type": "code",
   "execution_count": null,
   "metadata": {},
   "outputs": [],
   "source": []
  }
 ],
 "metadata": {
  "kernelspec": {
   "display_name": "Python 3",
   "language": "python",
   "name": "python3"
  },
  "language_info": {
   "codemirror_mode": {
    "name": "ipython",
    "version": 3
   },
   "file_extension": ".py",
   "mimetype": "text/x-python",
   "name": "python",
   "nbconvert_exporter": "python",
   "pygments_lexer": "ipython3",
   "version": "3.7.4"
  }
 },
 "nbformat": 4,
 "nbformat_minor": 2
}
