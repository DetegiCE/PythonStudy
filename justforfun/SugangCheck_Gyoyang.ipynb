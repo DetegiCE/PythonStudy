{
 "cells": [
  {
   "cell_type": "code",
   "execution_count": 4,
   "metadata": {},
   "outputs": [],
   "source": [
    "#-*- coding: utf-8 -*-\n",
    "\n",
    "from selenium import webdriver\n",
    "from datetime import datetime\n",
    "import io\n",
    "import selenium as se\n",
    "\n",
    "path = \"C:\\\\Users\\\\USER\\\\Desktop\\\\chromedriver.exe\"\n",
    "\n",
    "driver = webdriver.Chrome(path)\n",
    "\n",
    "driver2 = webdriver.Chrome(path)"
   ]
  },
  {
   "cell_type": "code",
   "execution_count": 5,
   "metadata": {},
   "outputs": [],
   "source": [
    "url = \"http://sugang.korea.ac.kr/lecture/LecEtcSub.jsp?lang=KOR\"\n",
    "\n",
    "driver.get(url)\n",
    "\n",
    "tturl = \"http://sugang.korea.ac.kr\"\n",
    "driver2.get(tturl)\n",
    "#driver2 로그인"
   ]
  },
  {
   "cell_type": "code",
   "execution_count": 10,
   "metadata": {
    "scrolled": false
   },
   "outputs": [
    {
     "name": "stdout",
     "output_type": "stream",
     "text": [
      "학수번호\t과목명\t교수\t1신청\t1정원\t2신청\t2정원\t3신청\t3정원\t4신청\t4정원\t교신청\t교정원\t원신청\t원정원\t전신청\t전정원\n",
      "41  군사학 2\n",
      "GEMS201-00\t 안보학\t GEMS201-00\t0\t-\t2\t-\t9\t-\t1\t-\t0\t2\t0\t-\t12\t50 + 2\n",
      "GEMS204-00\t 조직리더십사례연구\t GEMS204-00\t0\t-\t0\t-\t0\t-\t8\t-\t0\t0\t0\t-\t8\t50 + 0\n",
      "71  평생 1\n",
      "EDUC399-00\t 평생교육실습\t송진휘 EDUC399-00\t0\t-\t0\t-\t0\t-\t0\t-\t0\t2\t0\t-\t0\t40 + 2\n"
     ]
    }
   ],
   "source": [
    "#교양\n",
    "#opval = [\"01\"]\n",
    "\n",
    "#1세 아잉 과기 글쓰기 문예 사이 선교 세문 역탐\n",
    "#윤사 자정진 전관교 전관교(전외) 전관교(2외) 정량사고 정보사고\n",
    "\n",
    "#depts = [[\"16\", \"13\", \"15\", \"32\", \"11\", \"12\", \"14\", \"43\", \"31\", \"35\", \"33\", \"17\", \"42\"]]\n",
    "#dptname = [[\"과학기술\", \"문학예술\", \"사회이해\", \"선교\",\n",
    "#            \"세계문화\", \"역사탐구\", \"윤리사상\", \"자정진\", \"전관교\", \"전관교(전공외국어)\",\n",
    "#            \"전관교(2외국어)\", \"정량적사고\", \"정보적사고\"]]\n",
    "\n",
    "#depts = [[\"24\", \"23\"]]\n",
    "#dptname = [[\"1세\", \"아잉\"]]\n",
    "\n",
    "#교직\n",
    "opval = [\"41\", \"71\"]\n",
    "depts = [[\"\"], [\"\"]]\n",
    "dptname = [[\"군사학\"], [\"평생\"]]\n",
    "\n",
    "cnt = -1\n",
    "\n",
    "scurl = \"http://sugang.korea.ac.kr/lecture/LecLmtInfoWish.jsp?courcd=\"\n",
    "\n",
    "print(\"학수번호\\t과목명\\t교수\\t1신청\\t1정원\\t2신청\\t2정원\\t3신청\\t3정원\\t4신청\\t4정원\\t교신청\\t교정원\\t원신청\\t원정원\\t전신청\\t전정원\")\n",
    "\n",
    "for d in opval:\n",
    "    cnt = cnt + 1\n",
    "    url = \"http://sugang.korea.ac.kr/lecture/LecEtcSub.jsp?lang=KOR&yy=2020&tm=1R&campus=1&col=\"\n",
    "    url = url + d + \"&dept=\"\n",
    "    turl = url\n",
    "    ncnt = -1\n",
    "    for dpt in depts[cnt]:\n",
    "        ncnt = ncnt + 1\n",
    "        url = turl\n",
    "        url = url + dpt\n",
    "        driver.get(url)\n",
    "        print(d+\" \"+dpt+\" \"+dptname[cnt][ncnt], end=' ')\n",
    "        subjs = driver.find_elements_by_tag_name(\"tr\")\n",
    "        sublen = len(subjs)\n",
    "        print(sublen-1)\n",
    "        for i in range(1, sublen):\n",
    "            subcode = driver.find_element_by_xpath(\"/html/body/div/div[2]/form/table/tbody/tr[\" + str(i) + \"]/td[1]\")\n",
    "            subclss = driver.find_element_by_xpath(\"/html/body/div/div[2]/form/table/tbody/tr[\" + str(i) + \"]/td[2]\")\n",
    "            subname = driver.find_element_by_xpath(\"/html/body/div/div[2]/form/table/tbody/tr[\" + str(i) + \"]/td[4]\")\n",
    "            prfname = driver.find_element_by_xpath(\"/html/body/div/div[2]/form/table/tbody/tr[\" + str(i) + \"]/td[5]\")\n",
    "            \n",
    "            tscurl = scurl\n",
    "            tscurl = tscurl + subcode.text + \"&courcls=\" + subclss.text + \"&year=2020&term=1R\"\n",
    "            \n",
    "            print(subcode.text+\"-\"+subclss.text+\"\\t\"+subname.text.split(\"\\n\")[0]+\"\\t\"+prfname.text, end=' ')\n",
    "            \n",
    "            driver2.get(tscurl)\n",
    "            driver2.implicitly_wait(5)\n",
    "            \n",
    "            try:\n",
    "                e = driver2.find_elements_by_xpath(\"/html/body/div/div[2]/span\")\n",
    "                print(e[0].text, end='\\t')\n",
    "            except:\n",
    "                print(\"정보 없음\")\n",
    "                continue\n",
    "\n",
    "            p1 = driver2.find_elements_by_xpath(\"/html/body/div/table/tbody/tr[2]/td[2]\")\n",
    "            q1 = driver2.find_elements_by_xpath(\"/html/body/div/table/tbody/tr[2]/td[3]\")\n",
    "            print(p1[0].text+\"\\t\"+q1[0].text, end='\\t')\n",
    "\n",
    "            p1 = driver2.find_elements_by_xpath(\"/html/body/div/table/tbody/tr[3]/td[2]\")\n",
    "            q1 = driver2.find_elements_by_xpath(\"/html/body/div/table/tbody/tr[3]/td[3]\")\n",
    "            print(p1[0].text+\"\\t\"+q1[0].text, end='\\t')\n",
    "\n",
    "            p1 = driver2.find_elements_by_xpath(\"/html/body/div/table/tbody/tr[4]/td[2]\")\n",
    "            q1 = driver2.find_elements_by_xpath(\"/html/body/div/table/tbody/tr[4]/td[3]\")\n",
    "            print(p1[0].text+\"\\t\"+q1[0].text, end='\\t')\n",
    "\n",
    "            p1 = driver2.find_elements_by_xpath(\"/html/body/div/table/tbody/tr[5]/td[2]\")\n",
    "            q1 = driver2.find_elements_by_xpath(\"/html/body/div/table/tbody/tr[5]/td[3]\")\n",
    "            print(p1[0].text+\"\\t\"+q1[0].text, end='\\t')\n",
    "\n",
    "            p1 = driver2.find_elements_by_xpath(\"/html/body/div/table/tbody/tr[6]/td[2]\")\n",
    "            q1 = driver2.find_elements_by_xpath(\"/html/body/div/table/tbody/tr[6]/td[3]\")\n",
    "            print(p1[0].text+\"\\t\"+q1[0].text, end='\\t')\n",
    "\n",
    "            p1 = driver2.find_elements_by_xpath(\"/html/body/div/table/tbody/tr[7]/td[2]\")\n",
    "            q1 = driver2.find_elements_by_xpath(\"/html/body/div/table/tbody/tr[7]/td[3]\")\n",
    "            print(p1[0].text+\"\\t\"+q1[0].text, end='\\t')\n",
    "\n",
    "            p1 = driver2.find_elements_by_xpath(\"/html/body/div/table/tbody/tr[8]/td[2]\")\n",
    "            q1 = driver2.find_elements_by_xpath(\"/html/body/div/table/tbody/tr[8]/td[3]\")\n",
    "            print(p1[0].text+\"\\t\"+q1[0].text)"
   ]
  },
  {
   "cell_type": "code",
   "execution_count": null,
   "metadata": {},
   "outputs": [],
   "source": []
  }
 ],
 "metadata": {
  "kernelspec": {
   "display_name": "Python 3",
   "language": "python",
   "name": "python3"
  },
  "language_info": {
   "codemirror_mode": {
    "name": "ipython",
    "version": 3
   },
   "file_extension": ".py",
   "mimetype": "text/x-python",
   "name": "python",
   "nbconvert_exporter": "python",
   "pygments_lexer": "ipython3",
   "version": "3.7.4"
  }
 },
 "nbformat": 4,
 "nbformat_minor": 2
}
