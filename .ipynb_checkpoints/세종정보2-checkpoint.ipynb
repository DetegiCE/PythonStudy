{
 "cells": [
  {
   "cell_type": "markdown",
   "metadata": {},
   "source": [
    "이름 : "
   ]
  },
  {
   "cell_type": "markdown",
   "metadata": {},
   "source": [
    "1. numpy의 자료형 8가지를 작성하고, 각각의 세부 비트들을 작성하시오"
   ]
  },
  {
   "cell_type": "markdown",
   "metadata": {},
   "source": [
    "| 순번 | 자료형 (Data Type) | 세부비트 (Detail Bits) |\n",
    "|:---:|:---:|:---:|\n",
    "|1| | |\n",
    "|2| | |\n",
    "|3| | |\n",
    "|4| | |\n",
    "|5| | |\n",
    "|6| | |\n",
    "|7| | |\n",
    "|8| | |"
   ]
  },
  {
   "cell_type": "markdown",
   "metadata": {},
   "source": [
    "2. 다음 코드의 실행 결과를 작성하시오\n",
    "```python\n",
    "lst2 = [[1, 2, 3], [4, 5, 6], [7, 8, 9], [10, 11, 12]]\n",
    "arr2 = np.array(lst2)\n",
    "print(len(arr2))\n",
    "print(np.size(arr2))\n",
    "```"
   ]
  },
  {
   "cell_type": "markdown",
   "metadata": {},
   "source": [
    "3. 다음 코드의 실행 결과를 작성하시오\n",
    "```python\n",
    "lst3 = [[1, 2], [3, 4], [5, 6]]\n",
    "arr3 = np.asfarray(lst3)\n",
    "print(arr3)\n",
    "```"
   ]
  },
  {
   "cell_type": "markdown",
   "metadata": {},
   "source": [
    "4. 특이값 4가지를 작성하고 각각의 줄임말을 풀어서 쓴 후, 설명하시오\n",
    "\n",
    "|순번| 특이값(줄임말) | 특이값(늘림말) | 설명 (Description) |\n",
    "|:---:|:---:|:---:|:---:|\n",
    "|1| | | |\n",
    "|2| | | |\n",
    "|3| | | |\n",
    "|4| | | |"
   ]
  },
  {
   "cell_type": "markdown",
   "metadata": {},
   "source": [
    "5. 다음 코드의 실행 결과를 작성하시오\n",
    "```python\n",
    "print(np.arange(5))\n",
    "print(np.arange(3, 10))\n",
    "print(np.arange(2, 10, 2))\n",
    "```"
   ]
  },
  {
   "cell_type": "markdown",
   "metadata": {},
   "source": [
    "6. 다음 코드의 실행 결과를 작성하시오\n",
    "```python\n",
    "arr8 = np.arange(12)\n",
    "print(arr8.reshape(3, -1))\n",
    "print(arr8.reshape(4, -1))\n",
    "```"
   ]
  },
  {
   "cell_type": "markdown",
   "metadata": {},
   "source": [
    "7. 다음 코드의 실행 결과를 작성하시오\n",
    "```python\n",
    "arr2 = np.arange(7)\n",
    "arr3 = arr2[1:5]\n",
    "print(arr2)\n",
    "print(arr3)\n",
    "arr3[2] = 10\n",
    "print(arr2)\n",
    "print(arr3)\n",
    "```"
   ]
  },
  {
   "cell_type": "markdown",
   "metadata": {},
   "source": [
    "8. 다음 코드의 실행 결과를 작성하시오\n",
    "```python\n",
    "subject = np.array(['math', 'math', 'lang', 'chem', 'math', 'phys', 'chem'])\n",
    "data = np.arange(28).reshape(7, 4)\n",
    "print(data[(subject=='math') | (subject=='chem'), :])\n",
    "```"
   ]
  },
  {
   "cell_type": "markdown",
   "metadata": {},
   "source": [
    "9. 다음 역할을 수행하는 코드를 각각 1줄씩 작성하시오\n",
    "\n",
    "    (1) 표준정규분포에서 숫자를 1차원 배열에 10개 생성함\n",
    "    \n",
    "    (2) 이산형 균등분포에서 0~10 사이의 숫자를 2차원 배열에 4x3으로 12개 생성함"
   ]
  },
  {
   "cell_type": "markdown",
   "metadata": {},
   "source": [
    "10. 다음 두 코드의 차이점에 대해 설명하시오\n",
    "```python\n",
    "x = np.arange(7)\n",
    "print(np.random.permutation(x))\n",
    "print(np.random.shuffle(x))\n",
    "```"
   ]
  },
  {
   "cell_type": "markdown",
   "metadata": {},
   "source": [
    "11. 다음 코드의 실행 결과를 작성하시오\n",
    "```python\n",
    "z = np.array([-1, 3, -5])\n",
    "print(np.abs(z))\n",
    "print(np.fabs(z))\n",
    "print(np.sign(z))\n",
    "print(z+2)\n",
    "```"
   ]
  },
  {
   "cell_type": "markdown",
   "metadata": {},
   "source": [
    "12. 다음 코드의 실행 결과를 작성하시오\n",
    "```python\n",
    "a = np.array([1, 2, 3, 4])\n",
    "b = np.array([[1, 2], [3, 4]])\n",
    "print(np.prod(a))\n",
    "print(np.prod(b, axis=0))\n",
    "print(np.prod(b, axis=1))\n",
    "```"
   ]
  },
  {
   "cell_type": "markdown",
   "metadata": {},
   "source": [
    "13. 다음 코드의 실행 결과를 작성하시오\n",
    "```python\n",
    "a = np.array([3.14, -5.21, 9.69, -1.87, 0])\n",
    "print(np.ceil(a))\n",
    "print(np.floor(a))\n",
    "print(np.rint(a))\n",
    "print(np.round_(a, -1))\n",
    "print(np.fix(a))\n",
    "print(np.trunc(a))\n",
    "```"
   ]
  },
  {
   "cell_type": "markdown",
   "metadata": {},
   "source": [
    "14. 다음 코드의 실행 결과를 작성하시오\n",
    "```python\n",
    "a = np.array([1, 2, 3, 4, 5, 6, 7])\n",
    "print((a>=3).any())\n",
    "print((a>=3).all())\n",
    "```"
   ]
  },
  {
   "cell_type": "markdown",
   "metadata": {},
   "source": [
    "15. 다음 코드의 실행 결과를 작성하시오\n",
    "```python\n",
    "a = np.array([[0, 8], [7, 7]])\n",
    "b = np.array([[0, 1], [4, 2]])\n",
    "print(a*b)\n",
    "print(np.multiply(a, b))\n",
    "print(np.dot(a, b))\n",
    "```"
   ]
  },
  {
   "cell_type": "markdown",
   "metadata": {},
   "source": [
    "16. 다음 코드의 실행 결과를 작성하시오\n",
    "```python\n",
    "y = np.array([[1, 2], [3, 4]])\n",
    "print(np.linalg.det(y))\n",
    "a = np.array([[1, 2], [3, 4]])\n",
    "b = np.array([9, 8])\n",
    "x = np.linalg.solve(a, b)\n",
    "print(x)\n",
    "```"
   ]
  },
  {
   "cell_type": "markdown",
   "metadata": {},
   "source": [
    "17. 다음 코드의 실행 결과를 작성하시오\n",
    "```python\n",
    "a = np.array([1, 1, 3, 3, 2, 1, 2, 3, 1, 2, 3])\n",
    "print(np.unique(a))\n",
    "```"
   ]
  },
  {
   "cell_type": "markdown",
   "metadata": {},
   "source": [
    "18. 다음 중 실행되지 않는 코드를 선택하시오"
   ]
  },
  {
   "cell_type": "markdown",
   "metadata": {},
   "source": [
    "(1)\n",
    "```python\n",
    "a = np.arange(12).reshape((4, 3))\n",
    "b = np.arange(3)\n",
    "print(a+b)\n",
    "```"
   ]
  },
  {
   "cell_type": "markdown",
   "metadata": {},
   "source": [
    "(2)\n",
    "```python\n",
    "a = np.arange(12).reshape((4, 3))\n",
    "c = np.arange(4)\n",
    "print(a+c)\n",
    "```"
   ]
  },
  {
   "cell_type": "markdown",
   "metadata": {},
   "source": [
    "(3)\n",
    "```python\n",
    "a = np.arange(12).reshape((4, 3))\n",
    "d = np.arange(4).reshape((4, 1))\n",
    "print(a+d)\n",
    "```"
   ]
  },
  {
   "cell_type": "code",
   "execution_count": null,
   "metadata": {},
   "outputs": [],
   "source": []
  }
 ],
 "metadata": {
  "kernelspec": {
   "display_name": "Python 3",
   "language": "python",
   "name": "python3"
  },
  "language_info": {
   "codemirror_mode": {
    "name": "ipython",
    "version": 3
   },
   "file_extension": ".py",
   "mimetype": "text/x-python",
   "name": "python",
   "nbconvert_exporter": "python",
   "pygments_lexer": "ipython3",
   "version": "3.8.5"
  }
 },
 "nbformat": 4,
 "nbformat_minor": 4
}
