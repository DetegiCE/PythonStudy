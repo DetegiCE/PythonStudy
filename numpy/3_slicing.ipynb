{
 "cells": [
  {
   "cell_type": "code",
   "execution_count": 1,
   "metadata": {},
   "outputs": [
    {
     "name": "stdout",
     "output_type": "stream",
     "text": [
      "[[1 2]\n",
      " [4 5]]\n",
      "[[5 6]\n",
      " [8 9]]\n",
      "[1 2 3]\n",
      "[1 2 3]\n",
      "[1 2 3]\n"
     ]
    }
   ],
   "source": [
    "import numpy as np\n",
    "\n",
    "lst = [[1, 2, 3], [4, 5, 6], [7, 8, 9]]\n",
    "\n",
    "arr = np.array(lst)\n",
    "\n",
    "a = arr[0:2, 0:2]\n",
    "print(a)\n",
    "\n",
    "a2 = arr[1:, 1:]\n",
    "print(a2)\n",
    "\n",
    "a3 = arr[0]\n",
    "print(a3)\n",
    "\n",
    "a4 = arr[0, ]\n",
    "print(a4)\n",
    "\n",
    "a5 = arr[0, :]\n",
    "print(a5)"
   ]
  },
  {
   "cell_type": "code",
   "execution_count": 2,
   "metadata": {},
   "outputs": [
    {
     "ename": "SyntaxError",
     "evalue": "invalid syntax (<ipython-input-2-2a9b71588a0d>, line 1)",
     "output_type": "error",
     "traceback": [
      "\u001b[0;36m  File \u001b[0;32m\"<ipython-input-2-2a9b71588a0d>\"\u001b[0;36m, line \u001b[0;32m1\u001b[0m\n\u001b[0;31m    a6 = arr[, 0]\u001b[0m\n\u001b[0m             ^\u001b[0m\n\u001b[0;31mSyntaxError\u001b[0m\u001b[0;31m:\u001b[0m invalid syntax\n"
     ]
    }
   ],
   "source": [
    "a6 = arr[, 0]\n",
    "print(a6)"
   ]
  },
  {
   "cell_type": "code",
   "execution_count": 3,
   "metadata": {},
   "outputs": [
    {
     "name": "stdout",
     "output_type": "stream",
     "text": [
      "[1 4 7]\n",
      "[[4]\n",
      " [7]]\n"
     ]
    }
   ],
   "source": [
    "a7 = arr[:, 0]\n",
    "print(a7)\n",
    "\n",
    "a8 = arr[1:, :1]\n",
    "print(a8)"
   ]
  },
  {
   "cell_type": "code",
   "execution_count": 4,
   "metadata": {},
   "outputs": [
    {
     "name": "stdout",
     "output_type": "stream",
     "text": [
      "[[ 0  1  2  3]\n",
      " [ 4  5  6  7]\n",
      " [ 8  9 10 11]]\n",
      "[[ 0  1  2  3]\n",
      " [12 13 14 15]]\n",
      "20\n",
      "[[12 14]\n",
      " [16 18]]\n",
      "[[[ 0]]\n",
      "\n",
      " [[12]]]\n",
      "[[0 1]\n",
      " [4 5]]\n",
      "[[[0 1]\n",
      "  [4 5]]]\n"
     ]
    }
   ],
   "source": [
    "arr = np.arange(24).reshape(2, 3, 4)\n",
    "\n",
    "print(arr[0])\n",
    "print(arr[:, 0])\n",
    "print(arr[1, 2, 0])\n",
    "print(arr[1][[0, 1]][:, [0, 2]])\n",
    "print(arr[:, 0:1, 0:1])\n",
    "\n",
    "print(arr[0][[0, 1], :][:, [0,1]])\n",
    "print(arr[0:1, 0:2, 0:2])"
   ]
  },
  {
   "cell_type": "code",
   "execution_count": 6,
   "metadata": {},
   "outputs": [
    {
     "name": "stdout",
     "output_type": "stream",
     "text": [
      "[[0 1]\n",
      " [5 6]]\n",
      "[[0 1]\n",
      " [5 6]]\n",
      "[[[ 0  2]\n",
      "  [ 8 10]]\n",
      "\n",
      " [[12 14]\n",
      "  [20 22]]]\n"
     ]
    }
   ],
   "source": [
    "arr = np.arange(10).reshape(2, 5)\n",
    "print(arr[np.ix_([0,1], [0,1])])\n",
    "print(arr[[0,1]][:, [0,1]])\n",
    "\n",
    "arr2 = np.arange(24).reshape(2, 3, 4)\n",
    "print(arr2[np.ix_([0,1],[0,2],[0,2])])\n",
    "#print(arr2[[0,1]][:,[0,2]],[:,:,[0.2]])"
   ]
  },
  {
   "cell_type": "code",
   "execution_count": 7,
   "metadata": {},
   "outputs": [
    {
     "name": "stdout",
     "output_type": "stream",
     "text": [
      "[ 0  1  2  3 40  5  6  7  8  9]\n",
      "[ 3 40  5]\n"
     ]
    }
   ],
   "source": [
    "arr = np.arange(10)\n",
    "\n",
    "arr2 = arr[3:6]\n",
    "arr2[1] = 40\n",
    "\n",
    "print(arr)\n",
    "print(arr2)"
   ]
  },
  {
   "cell_type": "code",
   "execution_count": 9,
   "metadata": {},
   "outputs": [
    {
     "name": "stdout",
     "output_type": "stream",
     "text": [
      "[0 1 2 3 4 5 6 7 8 9]\n",
      "[ 3 40  5]\n"
     ]
    }
   ],
   "source": [
    "arr = np.arange(10)\n",
    "\n",
    "arr2 = arr[3:6].copy()\n",
    "arr2[1] = 40\n",
    "\n",
    "print(arr)\n",
    "print(arr2)"
   ]
  },
  {
   "cell_type": "code",
   "execution_count": 10,
   "metadata": {},
   "outputs": [
    {
     "name": "stdout",
     "output_type": "stream",
     "text": [
      "5\n",
      "[5 6 7]\n",
      "[ 0  1  2  3  4 12 12 12  8  9]\n",
      "[ 0  1  2  3  4 12 12 12  8  9]\n"
     ]
    }
   ],
   "source": [
    "arr = np.arange(10)\n",
    "print(arr[5])\n",
    "print(arr[5:8])\n",
    "\n",
    "arr[5:8] = 12\n",
    "print(arr)\n",
    "\n",
    "print(arr[:])"
   ]
  },
  {
   "cell_type": "code",
   "execution_count": 11,
   "metadata": {},
   "outputs": [
    {
     "name": "stdout",
     "output_type": "stream",
     "text": [
      "[ 2 12]\n",
      "3\n",
      "3\n"
     ]
    }
   ],
   "source": [
    "lst = [[1, 2, 3, 4],\n",
    "      [5, 6, 7, 8],\n",
    "      [9, 10, 11, 12]]\n",
    "arr2 = np.array(lst)\n",
    "\n",
    "print(arr2[[0, 2], [1, 3]])\n",
    "print(arr2[0, 2])\n",
    "print(arr2[0][2])"
   ]
  },
  {
   "cell_type": "code",
   "execution_count": 12,
   "metadata": {},
   "outputs": [
    {
     "name": "stdout",
     "output_type": "stream",
     "text": [
      "[[ 0  1  2]\n",
      " [ 3  4  5]\n",
      " [ 6  7  8]\n",
      " [ 9 10 11]\n",
      " [12 13 14]]\n",
      "[[3 4 5]\n",
      " [6 7 8]]\n",
      "[[12 13 14]\n",
      " [ 9 10 11]]\n",
      "[[ 0  2]\n",
      " [ 6  8]\n",
      " [12 14]]\n",
      "[[ 0  2]\n",
      " [ 6  8]\n",
      " [12 14]]\n"
     ]
    }
   ],
   "source": [
    "a = np.arange(15).reshape(5, 3)\n",
    "\n",
    "print(a)\n",
    "print(a[[1,2]])\n",
    "print(a[[-1, -2]])\n",
    "\n",
    "print(a[[0,2,4]][:, [0,2]])\n",
    "print(a[np.ix_([0,2,4],[0,2])])"
   ]
  },
  {
   "cell_type": "code",
   "execution_count": 13,
   "metadata": {},
   "outputs": [
    {
     "name": "stdout",
     "output_type": "stream",
     "text": [
      "[2 4 6 8]\n",
      "[[False  True False]\n",
      " [ True False  True]\n",
      " [False  True False]]\n",
      "[2 4 6 8]\n",
      "[2 4 6 8]\n"
     ]
    }
   ],
   "source": [
    "lst = [[1, 2, 3],\n",
    "      [4, 5, 6],\n",
    "      [7, 8, 9]]\n",
    "\n",
    "arr = np.array(lst)\n",
    "b_arr = np.array([[False, True, False],\n",
    "                 [True, False, True],\n",
    "                 [False, True, False]])\n",
    "\n",
    "print(arr[b_arr])\n",
    "\n",
    "b_arr2 = (arr%2==0)\n",
    "print(b_arr2)\n",
    "print(arr[b_arr2])\n",
    "print(arr[arr%2==0])"
   ]
  },
  {
   "cell_type": "code",
   "execution_count": 18,
   "metadata": {},
   "outputs": [
    {
     "name": "stdout",
     "output_type": "stream",
     "text": [
      "['Charles' 'Kilho' 'Hayoung' 'Charles' 'Hayoung' 'Kilho' 'Kilho']\n",
      "[[-1.81508852 -1.7739601   1.03665586 -0.43636257]\n",
      " [ 1.06077044 -0.17259923 -0.3885574   0.32590831]\n",
      " [-0.15315496  0.60173473 -1.07030253 -0.35317641]\n",
      " [-0.26783725 -0.24344343  0.59306802 -0.60115894]\n",
      " [ 1.44649214 -1.29834894 -0.12501153 -0.76911705]\n",
      " [-0.6704928  -0.83260701  1.68344142 -0.38012222]\n",
      " [-0.48732489  1.49591519  1.53708512  1.12652763]]\n",
      "[ True False False  True False False False]\n",
      "[[-1.81508852 -1.7739601   1.03665586 -0.43636257]\n",
      " [-0.26783725 -0.24344343  0.59306802 -0.60115894]]\n",
      "[[-1.81508852 -1.7739601   1.03665586 -0.43636257]\n",
      " [ 1.06077044 -0.17259923 -0.3885574   0.32590831]\n",
      " [-0.26783725 -0.24344343  0.59306802 -0.60115894]\n",
      " [-0.6704928  -0.83260701  1.68344142 -0.38012222]\n",
      " [-0.48732489  1.49591519  1.53708512  1.12652763]]\n",
      "[[-1.81508852 -1.7739601   1.03665586 -0.43636257]\n",
      " [-0.15315496  0.60173473 -1.07030253 -0.35317641]\n",
      " [-0.26783725 -0.24344343  0.59306802 -0.60115894]\n",
      " [ 1.44649214 -1.29834894 -0.12501153 -0.76911705]\n",
      " [-0.6704928  -0.83260701  1.68344142 -0.38012222]]\n"
     ]
    }
   ],
   "source": [
    "names = np.array([\"Charles\", \"Kilho\", \"Hayoung\", \"Charles\", \"Hayoung\", \"Kilho\", \"Kilho\"])\n",
    "data = np.random.randn(7, 4)\n",
    "\n",
    "print(names)\n",
    "print(data)\n",
    "\n",
    "print(names==\"Charles\")\n",
    "print(data[names==\"Charles\", :])\n",
    "print(data[(names==\"Charles\") | (names==\"Kilho\"), :])\n",
    "\n",
    "print(data[data[:, 3]<0, :])"
   ]
  },
  {
   "cell_type": "code",
   "execution_count": 19,
   "metadata": {},
   "outputs": [
    {
     "name": "stdout",
     "output_type": "stream",
     "text": [
      "[[ 0.          0.          0.          0.        ]\n",
      " [ 1.06077044 -0.17259923 -0.3885574   0.32590831]\n",
      " [ 0.          0.          0.          0.        ]\n",
      " [ 0.          0.          0.          0.        ]\n",
      " [ 0.          0.          0.          0.        ]\n",
      " [ 0.          0.          0.          0.        ]\n",
      " [-0.48732489  1.49591519  1.53708512  1.12652763]]\n"
     ]
    }
   ],
   "source": [
    "data2 = data.copy()\n",
    "data2[data2[:, 3]<0, :] = 0\n",
    "print(data2)"
   ]
  },
  {
   "cell_type": "code",
   "execution_count": null,
   "metadata": {},
   "outputs": [],
   "source": []
  }
 ],
 "metadata": {
  "kernelspec": {
   "display_name": "Python 3",
   "language": "python",
   "name": "python3"
  },
  "language_info": {
   "codemirror_mode": {
    "name": "ipython",
    "version": 3
   },
   "file_extension": ".py",
   "mimetype": "text/x-python",
   "name": "python",
   "nbconvert_exporter": "python",
   "pygments_lexer": "ipython3",
   "version": "3.8.2"
  }
 },
 "nbformat": 4,
 "nbformat_minor": 4
}
