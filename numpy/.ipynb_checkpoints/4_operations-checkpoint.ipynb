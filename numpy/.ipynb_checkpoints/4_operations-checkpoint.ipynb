{
 "cells": [
  {
   "cell_type": "code",
   "execution_count": 1,
   "metadata": {},
   "outputs": [
    {
     "name": "stdout",
     "output_type": "stream",
     "text": [
      "[2 3 4]\n",
      "[0 1 2]\n",
      "[2 4 6]\n",
      "[0.5 1.  1.5]\n",
      "[0 1 1]\n",
      "[1 0 1]\n",
      "[1 4 9]\n",
      "[2 4 8]\n",
      "[5 7 9]\n",
      "[-3 -3 -3]\n",
      "[ 4 10 18]\n",
      "[0.25 0.4  0.5 ]\n",
      "[0 0 0]\n",
      "[1 2 3]\n",
      "[  1  32 729]\n"
     ]
    }
   ],
   "source": [
    "import numpy as np\n",
    "\n",
    "a = np.array([1, 2, 3])\n",
    "b = np.array([4, 5, 6])\n",
    "\n",
    "print(a+1)\n",
    "print(a-1)\n",
    "print(a*2)\n",
    "print(a/2)\n",
    "print(a//2)\n",
    "print(a%2)\n",
    "print(a**2)\n",
    "print(2**a)\n",
    "\n",
    "print(a+b)\n",
    "print(a-b)\n",
    "print(a*b)\n",
    "print(a/b)\n",
    "print(a//b)\n",
    "print(a%b)\n",
    "print(a**b)"
   ]
  },
  {
   "cell_type": "code",
   "execution_count": 3,
   "metadata": {},
   "outputs": [
    {
     "name": "stdout",
     "output_type": "stream",
     "text": [
      "[5 7 9]\n",
      "[-3 -3 -3]\n",
      "[ 4 10 18]\n",
      "[0.25 0.4  0.5 ]\n",
      "[  1  32 729]\n",
      "(array([0.5, 0.3, 0.8, 0.4, 0. ]), array([4., 6., 7., 4., 3.]))\n",
      "[0.5 0.3 0.8 0.4 0. ]\n",
      "[4. 6. 7. 4. 3.]\n",
      "[0 1 0]\n",
      "[1 3 4]\n",
      "[1. 3. 4.]\n",
      "[2.         2.23606798 2.44948974]\n",
      "[2.         2.23606798 2.44948974]\n",
      "[1 4 9]\n",
      "[1 4 9]\n",
      "[ 2.71828183  7.3890561  20.08553692]\n",
      "[0.         0.69314718 1.09861229]\n",
      "[0.         0.30103    0.47712125]\n",
      "[0.        1.        1.5849625]\n",
      "[-1  1 -1]\n"
     ]
    }
   ],
   "source": [
    "a = np.array([1, 2, 3])\n",
    "b = np.array([4, 5, 6])\n",
    "c = np.array([-1, 3, -4])\n",
    "d = np.array([4.5, 6.3, 7.8, 4.4, 3])\n",
    "\n",
    "print(np.add(a, b))\n",
    "print(np.subtract(a, b))\n",
    "print(np.multiply(a, b))\n",
    "print(np.divide(a, b))\n",
    "print(np.power(a, b))\n",
    "print(np.modf(d))\n",
    "print(np.modf(d)[0])\n",
    "print(np.modf(d)[1])\n",
    "print(np.mod(b, a))\n",
    "print(np.abs(c))\n",
    "print(np.fabs(c)) #abs보다 속도가 더 빠름\n",
    "print(np.sqrt(b))\n",
    "print(b**0.5)\n",
    "print(np.square(a))\n",
    "print(a**2)\n",
    "print(np.exp(a))\n",
    "print(np.log(a))\n",
    "print(np.log10(a))\n",
    "print(np.log2(a))\n",
    "print(np.sign(c))"
   ]
  },
  {
   "cell_type": "code",
   "execution_count": 5,
   "metadata": {},
   "outputs": [
    {
     "name": "stdout",
     "output_type": "stream",
     "text": [
      "[1 2 6 3 7]\n",
      "[ 1  4 -3  4]\n",
      "[ 3 -7  7]\n",
      "[[ 9 11 16  7]]\n",
      "[[ 1  2  4]\n",
      " [ 3  7 -5]]\n",
      "[[  1   2]\n",
      " [  4 -12]]\n",
      "[ 1  2  4  2  3  7 -5]\n",
      "[-100  -99    1    2    4    2    3    7   -5   99  100]\n"
     ]
    }
   ],
   "source": [
    "f = np.array([1, 2, 4, 10, 13, 20])\n",
    "\n",
    "print(np.diff(f))\n",
    "print(np.diff(f, n=2))\n",
    "print(np.diff(f, n=3))\n",
    "\n",
    "g = np.array([[1, 2, 4, 8], [10, 13, 20, 15]])\n",
    "\n",
    "print(np.diff(g, axis=0))\n",
    "print(np.diff(g, axis=1))\n",
    "print(np.diff(g, n=2, axis=1))\n",
    "print(np.ediff1d(g))\n",
    "print(np.ediff1d(g, to_begin=np.array([-100, -99]), to_end=np.array([99, 100])))"
   ]
  },
  {
   "cell_type": "code",
   "execution_count": 6,
   "metadata": {},
   "outputs": [
    {
     "name": "stdout",
     "output_type": "stream",
     "text": [
      "24\n",
      "[3 8]\n",
      "[ 2 12]\n",
      "[3. 2.]\n",
      "[2. 3.]\n"
     ]
    }
   ],
   "source": [
    "b = np.array([1, 2, 3, 4])\n",
    "c = np.array([[1, 2], [3, 4]])\n",
    "\n",
    "print(np.prod(b))\n",
    "print(np.prod(c, axis=0))\n",
    "print(np.prod(c, axis=1))\n",
    "\n",
    "d = np.array([[1, 2], [3, np.nan]])\n",
    "\n",
    "print(np.nanprod(d, axis=0))\n",
    "print(np.nanprod(d, axis=1))"
   ]
  },
  {
   "cell_type": "code",
   "execution_count": null,
   "metadata": {},
   "outputs": [],
   "source": []
  }
 ],
 "metadata": {
  "kernelspec": {
   "display_name": "Python 3",
   "language": "python",
   "name": "python3"
  },
  "language_info": {
   "codemirror_mode": {
    "name": "ipython",
    "version": 3
   },
   "file_extension": ".py",
   "mimetype": "text/x-python",
   "name": "python",
   "nbconvert_exporter": "python",
   "pygments_lexer": "ipython3",
   "version": "3.8.2"
  }
 },
 "nbformat": 4,
 "nbformat_minor": 4
}
