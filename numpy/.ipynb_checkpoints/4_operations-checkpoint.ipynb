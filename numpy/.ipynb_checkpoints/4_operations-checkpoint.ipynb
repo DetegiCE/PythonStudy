{
 "cells": [
  {
   "cell_type": "code",
   "execution_count": 1,
   "metadata": {},
   "outputs": [
    {
     "name": "stdout",
     "output_type": "stream",
     "text": [
      "[2 3 4]\n",
      "[0 1 2]\n",
      "[2 4 6]\n",
      "[0.5 1.  1.5]\n",
      "[0 1 1]\n",
      "[1 0 1]\n",
      "[1 4 9]\n",
      "[2 4 8]\n",
      "[5 7 9]\n",
      "[-3 -3 -3]\n",
      "[ 4 10 18]\n",
      "[0.25 0.4  0.5 ]\n",
      "[0 0 0]\n",
      "[1 2 3]\n",
      "[  1  32 729]\n"
     ]
    }
   ],
   "source": [
    "import numpy as np\n",
    "\n",
    "a = np.array([1, 2, 3])\n",
    "b = np.array([4, 5, 6])\n",
    "\n",
    "print(a+1)\n",
    "print(a-1)\n",
    "print(a*2)\n",
    "print(a/2)\n",
    "print(a//2)\n",
    "print(a%2)\n",
    "print(a**2)\n",
    "print(2**a)\n",
    "\n",
    "print(a+b)\n",
    "print(a-b)\n",
    "print(a*b)\n",
    "print(a/b)\n",
    "print(a//b)\n",
    "print(a%b)\n",
    "print(a**b)"
   ]
  },
  {
   "cell_type": "code",
   "execution_count": 2,
   "metadata": {},
   "outputs": [
    {
     "name": "stdout",
     "output_type": "stream",
     "text": [
      "[5 7 9]\n",
      "[-3 -3 -3]\n",
      "[ 4 10 18]\n",
      "[0.25 0.4  0.5 ]\n",
      "[  1  32 729]\n",
      "(array([0.5, 0.3, 0.8, 0.4, 0. ]), array([4., 6., 7., 4., 3.]))\n",
      "[0.5 0.3 0.8 0.4 0. ]\n",
      "[4. 6. 7. 4. 3.]\n",
      "[0 1 0]\n",
      "[1 3 4]\n",
      "[1. 3. 4.]\n",
      "[2.         2.23606798 2.44948974]\n",
      "[2.         2.23606798 2.44948974]\n",
      "[1 4 9]\n",
      "[1 4 9]\n",
      "[ 2.71828183  7.3890561  20.08553692]\n",
      "[0.         0.69314718 1.09861229]\n",
      "[0.         0.30103    0.47712125]\n",
      "[0.        1.        1.5849625]\n",
      "[-1  1 -1]\n"
     ]
    }
   ],
   "source": [
    "a = np.array([1, 2, 3])\n",
    "b = np.array([4, 5, 6])\n",
    "c = np.array([-1, 3, -4])\n",
    "d = np.array([4.5, 6.3, 7.8, 4.4, 3])\n",
    "\n",
    "print(np.add(a, b))\n",
    "print(np.subtract(a, b))\n",
    "print(np.multiply(a, b))\n",
    "print(np.divide(a, b))\n",
    "print(np.power(a, b))\n",
    "print(np.modf(d))\n",
    "print(np.modf(d)[0])\n",
    "print(np.modf(d)[1])\n",
    "print(np.mod(b, a))\n",
    "print(np.abs(c))\n",
    "print(np.fabs(c)) #abs보다 속도가 더 빠름\n",
    "print(np.sqrt(b))\n",
    "print(b**0.5)\n",
    "print(np.square(a))\n",
    "print(a**2)\n",
    "print(np.exp(a))\n",
    "print(np.log(a))\n",
    "print(np.log10(a))\n",
    "print(np.log2(a))\n",
    "print(np.sign(c))"
   ]
  },
  {
   "cell_type": "code",
   "execution_count": 3,
   "metadata": {},
   "outputs": [
    {
     "name": "stdout",
     "output_type": "stream",
     "text": [
      "[1 2 6 3 7]\n",
      "[ 1  4 -3  4]\n",
      "[ 3 -7  7]\n",
      "[[ 9 11 16  7]]\n",
      "[[ 1  2  4]\n",
      " [ 3  7 -5]]\n",
      "[[  1   2]\n",
      " [  4 -12]]\n",
      "[ 1  2  4  2  3  7 -5]\n",
      "[-100  -99    1    2    4    2    3    7   -5   99  100]\n"
     ]
    }
   ],
   "source": [
    "f = np.array([1, 2, 4, 10, 13, 20])\n",
    "\n",
    "print(np.diff(f))\n",
    "print(np.diff(f, n=2))\n",
    "print(np.diff(f, n=3))\n",
    "\n",
    "g = np.array([[1, 2, 4, 8], [10, 13, 20, 15]])\n",
    "\n",
    "print(np.diff(g, axis=0))\n",
    "print(np.diff(g, axis=1))\n",
    "print(np.diff(g, n=2, axis=1))\n",
    "print(np.ediff1d(g))\n",
    "print(np.ediff1d(g, to_begin=np.array([-100, -99]), to_end=np.array([99, 100])))"
   ]
  },
  {
   "cell_type": "code",
   "execution_count": 4,
   "metadata": {},
   "outputs": [
    {
     "name": "stdout",
     "output_type": "stream",
     "text": [
      "24\n",
      "[3 8]\n",
      "[ 2 12]\n",
      "[3. 2.]\n",
      "[2. 3.]\n"
     ]
    }
   ],
   "source": [
    "b = np.array([1, 2, 3, 4])\n",
    "c = np.array([[1, 2], [3, 4]])\n",
    "\n",
    "print(np.prod(b))\n",
    "print(np.prod(c, axis=0))\n",
    "print(np.prod(c, axis=1))\n",
    "\n",
    "d = np.array([[1, 2], [3, np.nan]])\n",
    "\n",
    "print(np.nanprod(d, axis=0))\n",
    "print(np.nanprod(d, axis=1))"
   ]
  },
  {
   "cell_type": "code",
   "execution_count": 5,
   "metadata": {},
   "outputs": [
    {
     "name": "stdout",
     "output_type": "stream",
     "text": [
      "[      -inf 0.54132379]\n",
      "[0.         0.99999933]\n",
      "[0.         0.99999933]\n"
     ]
    },
    {
     "name": "stderr",
     "output_type": "stream",
     "text": [
      "<ipython-input-5-fc9fe6b5554d>:3: RuntimeWarning: divide by zero encountered in log\n",
      "  print(np.log(z))\n"
     ]
    }
   ],
   "source": [
    "z = np.array([0, 1.71828])\n",
    "\n",
    "print(np.log(z))\n",
    "print(np.log1p(z))\n",
    "print(np.log(1+z))"
   ]
  },
  {
   "cell_type": "code",
   "execution_count": 6,
   "metadata": {},
   "outputs": [
    {
     "name": "stdout",
     "output_type": "stream",
     "text": [
      "[-1.74976547  0.3426804   1.1530358  -0.25243604  0.98132079  0.51421884\n",
      "  0.22117967 -1.07004333]\n",
      "[-0.18949583  0.25500144 -0.45802699  0.43516349 -0.58359505  0.81684707\n",
      "  0.67272081 -0.10441114]\n",
      "[-0.18949583  0.3426804   1.1530358   0.43516349  0.98132079  0.81684707\n",
      "  0.67272081 -0.10441114]\n",
      "[-1.74976547  0.25500144 -0.45802699 -0.25243604 -0.58359505  0.51421884\n",
      "  0.22117967 -1.07004333]\n"
     ]
    }
   ],
   "source": [
    "np.random.seed(100)\n",
    "a = np.random.randn(8)\n",
    "b = np.random.randn(8)\n",
    "\n",
    "print(a)\n",
    "print(b)\n",
    "print(np.maximum(a, b))\n",
    "print(np.minimum(a, b))"
   ]
  },
  {
   "cell_type": "code",
   "execution_count": 7,
   "metadata": {},
   "outputs": [
    {
     "name": "stdout",
     "output_type": "stream",
     "text": [
      "[1.  1.5 4.  4.5 5.  7. ]\n",
      "[array([[ 9., 11., 16.,  7.],\n",
      "       [ 9., 11., 16.,  7.]]), array([[ 1. ,  1.5,  3. ,  4. ],\n",
      "       [ 3. ,  5. ,  1. , -5. ]])]\n",
      "[[ 9. 11. 16.  7.]\n",
      " [ 9. 11. 16.  7.]]\n",
      "[[ 1.   1.5  3.   4. ]\n",
      " [ 3.   5.   1.  -5. ]]\n"
     ]
    }
   ],
   "source": [
    "f = np.array([1, 2, 4, 10, 13, 20])\n",
    "\n",
    "print(np.gradient(f))\n",
    "\n",
    "g = np.array([[1,2,4,8],[10,13,20,15]])\n",
    "print(np.gradient(g))\n",
    "print(np.gradient(g, axis=0))\n",
    "print(np.gradient(g, axis=1))"
   ]
  },
  {
   "cell_type": "code",
   "execution_count": 8,
   "metadata": {},
   "outputs": [
    {
     "name": "stdout",
     "output_type": "stream",
     "text": [
      "[-4. -2.  0.  2.  4.  5.]\n",
      "[-5. -3.  0.  1.  3.  4.]\n",
      "[-5. -2.  0.  2.  3.  4.]\n",
      "[-5. -2.  0.  2.  3.  4.]\n",
      "[-4.6 -2.2  0.   1.6  3.4  4.1]\n",
      "[-4. -2.  0.  1.  3.  4.]\n",
      "[-4. -2.  0.  1.  3.  4.]\n"
     ]
    }
   ],
   "source": [
    "a = np.array([-4.62, -2.19, 0, 1.57, 3.40, 4.06])\n",
    "\n",
    "print(np.ceil(a))\n",
    "print(np.floor(a))\n",
    "print(np.rint(a))\n",
    "\n",
    "print(np.around(a))\n",
    "print(np.round_(a, 1))\n",
    "print(np.fix(a))\n",
    "print(np.trunc(a))"
   ]
  },
  {
   "cell_type": "code",
   "execution_count": 9,
   "metadata": {},
   "outputs": [
    {
     "name": "stdout",
     "output_type": "stream",
     "text": [
      "-0.4480736161291701\n",
      "0.8939966636005579\n",
      "-1.995200412208242\n",
      "6.102016471589204e+38\n",
      "6.102016471589204e+38\n",
      "1.0\n"
     ]
    }
   ],
   "source": [
    "print(np.cos(90))\n",
    "print(np.sin(90))\n",
    "print(np.tan(90))\n",
    "print(np.cosh(90))\n",
    "print(np.sinh(90))\n",
    "print(np.tanh(90))"
   ]
  },
  {
   "cell_type": "code",
   "execution_count": 10,
   "metadata": {},
   "outputs": [
    {
     "name": "stdout",
     "output_type": "stream",
     "text": [
      "3.141592653589793\n",
      "180.0\n"
     ]
    }
   ],
   "source": [
    "print(np.deg2rad(180))\n",
    "print(np.rad2deg(np.pi))"
   ]
  },
  {
   "cell_type": "code",
   "execution_count": 11,
   "metadata": {},
   "outputs": [
    {
     "name": "stdout",
     "output_type": "stream",
     "text": [
      "-0.07360709761201556\n",
      "-0.07360709761201556\n",
      "-0.003680354880600778\n",
      "-0.003680354880600778\n",
      "[[ 1.         -0.28895425 -0.14233292  0.90695115  0.27542553]\n",
      " [-0.28895425  1.         -0.58432748 -0.01246841  0.53085079]\n",
      " [-0.14233292 -0.58432748  1.         -0.05340807  0.07915826]\n",
      " [ 0.90695115 -0.01246841 -0.05340807  1.          0.65406442]\n",
      " [ 0.27542553  0.53085079  0.07915826  0.65406442  1.        ]]\n",
      "0.7664839465468608\n",
      "0.5874976403140509\n",
      "-1.7497654730546974\n",
      "1.153035802563644\n",
      "0\n",
      "2\n",
      "[-1.74976547 -1.40708507 -0.25404927 -0.5064853   0.47483548  0.98905432\n",
      "  1.21023399  0.14019066 -0.04930517  0.20569628 -0.25233071  0.18283278\n",
      " -0.40076227  0.4160848   1.08880561  0.98439446  0.45311409  1.48284677\n",
      "  1.04471115 -0.0736071 ]\n",
      "[-1.74976547e+00 -5.99610338e-01 -6.91372187e-01  1.74527255e-01\n",
      "  1.71267223e-01  8.80688330e-02  1.94790353e-02 -2.08434119e-02\n",
      "  3.94973965e-03  1.00718931e-03 -4.61319885e-04 -2.00749571e-04\n",
      "  1.17156456e-04  9.56989078e-05  6.43786463e-05 -6.72184807e-06\n",
      "  3.57118598e-06  3.67736693e-06 -1.61118545e-06  1.80181808e-06]\n",
      "[-2.07281594  2.95848045  1.15077367 -2.11004527]\n",
      "[-2.07281594  2.95848045  1.15077367 -2.11004527]\n",
      "[-0.5064853   0.64667597  0.04264212  0.80156168 -1.05800156]\n",
      "[-0.41456319  0.59169609  0.23015473 -0.42200905]\n"
     ]
    }
   ],
   "source": [
    "np.random.seed(100)\n",
    "a = np.random.randn(5, 4)\n",
    "\n",
    "print(a.sum())\n",
    "print(np.sum(a))\n",
    "print(a.mean())\n",
    "print(np.mean(a))\n",
    "print(np.corrcoef(a))\n",
    "print(np.std(a)) #standard derivation\n",
    "print(np.var(a))\n",
    "print(np.min(a))\n",
    "print(np.max(a))\n",
    "print(np.argmin(a)) #argument min\n",
    "print(np.argmax(a))\n",
    "print(np.cumsum(a)) #cumulate sum\n",
    "print(np.cumprod(a))\n",
    "\n",
    "print(a.sum(axis=0))\n",
    "print(np.sum(a, axis=0))\n",
    "print(np.sum(a, axis=1))\n",
    "print(np.mean(a, axis=0))"
   ]
  },
  {
   "cell_type": "code",
   "execution_count": 12,
   "metadata": {},
   "outputs": [
    {
     "name": "stdout",
     "output_type": "stream",
     "text": [
      "()\n",
      "10\n",
      "(1,)\n",
      "[10]\n"
     ]
    }
   ],
   "source": [
    "a = np.array([1,2,3,4])\n",
    "b = np.sum(a)\n",
    "c = np.sum(a, keepdims=True)\n",
    "\n",
    "print(b.shape)\n",
    "print(b)\n",
    "print(c.shape)\n",
    "print(c)"
   ]
  },
  {
   "cell_type": "code",
   "execution_count": 13,
   "metadata": {},
   "outputs": [
    {
     "name": "stdout",
     "output_type": "stream",
     "text": [
      "[-1.74976547 -1.07004333 -0.25243604  0.22117967  0.3426804   0.51421884\n",
      "  0.98132079  1.1530358 ]\n",
      "[ 1.1530358   0.98132079  0.51421884  0.3426804   0.22117967 -0.25243604\n",
      " -1.07004333 -1.74976547]\n",
      "[0 7 3 6 1 5 4 2]\n",
      "[-1.74976547 -1.07004333 -0.25243604  0.22117967  0.3426804   0.51421884\n",
      "  0.98132079  1.1530358 ]\n",
      "[2 4 5 1 6 3 7 0]\n",
      "[ 1.1530358   0.98132079  0.51421884  0.3426804   0.22117967 -0.25243604\n",
      " -1.07004333 -1.74976547]\n",
      "[[-0.58359505  0.25500144 -0.45802699 -1.11831825]\n",
      " [-0.53128038  0.81684707 -0.43813562 -0.84243574]\n",
      " [-0.18949583  0.9370822  -0.25187914 -0.10441114]\n",
      " [ 0.18451869  1.02973269  0.67272081  0.43516349]\n",
      " [ 1.61898166  1.54160517  0.73100034  1.36155613]]\n",
      "[[ 1.61898166  1.54160517  0.73100034  1.36155613]\n",
      " [ 0.18451869  1.02973269  0.67272081  0.43516349]\n",
      " [-0.18949583  0.9370822  -0.25187914 -0.10441114]\n",
      " [-0.53128038  0.81684707 -0.43813562 -0.84243574]\n",
      " [-0.58359505  0.25500144 -0.45802699 -1.11831825]]\n",
      "[[-0.45802699 -0.18949583  0.25500144  0.43516349]\n",
      " [-0.58359505 -0.10441114  0.67272081  0.81684707]\n",
      " [-1.11831825 -0.53128038 -0.43813562  1.02973269]\n",
      " [-0.84243574 -0.25187914  1.54160517  1.61898166]\n",
      " [ 0.18451869  0.73100034  0.9370822   1.36155613]]\n",
      "[[ 0.18451869  0.73100034  0.9370822   1.36155613]\n",
      " [-0.84243574 -0.25187914  1.54160517  1.61898166]\n",
      " [-1.11831825 -0.53128038 -0.43813562  1.02973269]\n",
      " [-0.58359505 -0.10441114  0.67272081  0.81684707]\n",
      " [-0.45802699 -0.18949583  0.25500144  0.43516349]]\n"
     ]
    }
   ],
   "source": [
    "np.random.seed(100)\n",
    "a = np.random.randn(8)\n",
    "b = np.random.randn(5, 4)\n",
    "\n",
    "print(np.sort(a))\n",
    "print(np.sort(a)[::-1])\n",
    "\n",
    "print(np.argsort(a))\n",
    "print(a[np.argsort(a)])\n",
    "print(np.argsort(-a))\n",
    "print(a[np.argsort(-a)])\n",
    "\n",
    "print(np.sort(b, axis=0))\n",
    "print(np.sort(b, axis=0)[::-1])\n",
    "print(np.sort(b, axis=1))\n",
    "print(np.sort(b, axis=1)[::-1])"
   ]
  },
  {
   "cell_type": "code",
   "execution_count": 14,
   "metadata": {},
   "outputs": [
    {
     "name": "stdout",
     "output_type": "stream",
     "text": [
      "1.5416051745134067\n"
     ]
    }
   ],
   "source": [
    "np.random.seed(100)\n",
    "a = np.random.randn(150)\n",
    "\n",
    "print(np.sort(a)[::-1][int(0.05*len(a))])"
   ]
  },
  {
   "cell_type": "code",
   "execution_count": 15,
   "metadata": {},
   "outputs": [
    {
     "name": "stdout",
     "output_type": "stream",
     "text": [
      "['charles' 'hayoung' 'kilho']\n",
      "[1 2 3 4]\n"
     ]
    }
   ],
   "source": [
    "names = np.array(['charles', 'kilho', 'hayoung', 'charles', 'hayoung', 'kilho'])\n",
    "ints = np.array([3, 3, 3, 2, 2, 1, 1, 4, 4])\n",
    "\n",
    "print(np.unique(names))\n",
    "print(np.unique(ints))"
   ]
  },
  {
   "cell_type": "code",
   "execution_count": 16,
   "metadata": {},
   "outputs": [
    {
     "name": "stdout",
     "output_type": "stream",
     "text": [
      "[1 0 1 1 0]\n"
     ]
    }
   ],
   "source": [
    "xarr = np.array([1, 1, 1, 1, 1])\n",
    "yarr = np.array([0, 0, 0, 0, 0])\n",
    "cond = np.array([True, False, True, True, False])\n",
    "\n",
    "print(np.where(cond, xarr, yarr))"
   ]
  },
  {
   "cell_type": "code",
   "execution_count": 17,
   "metadata": {},
   "outputs": [
    {
     "name": "stdout",
     "output_type": "stream",
     "text": [
      "[[ 0  5 10 15]\n",
      " [ 1  6 11 16]\n",
      " [ 2  7 12 17]\n",
      " [ 3  8 13 18]\n",
      " [ 4  9 14 19]]\n",
      "[[ 0  5 10 15]\n",
      " [ 1  6 11 16]\n",
      " [ 2  7 12 17]\n",
      " [ 3  8 13 18]\n",
      " [ 4  9 14 19]]\n",
      "[[[ 0  1  2  3]\n",
      "  [12 13 14 15]]\n",
      "\n",
      " [[ 4  5  6  7]\n",
      "  [16 17 18 19]]\n",
      "\n",
      " [[ 8  9 10 11]\n",
      "  [20 21 22 23]]]\n",
      "[[[ 0  4  8]\n",
      "  [ 1  5  9]\n",
      "  [ 2  6 10]\n",
      "  [ 3  7 11]]\n",
      "\n",
      " [[12 16 20]\n",
      "  [13 17 21]\n",
      "  [14 18 22]\n",
      "  [15 19 23]]]\n",
      "[[[ 0 12]\n",
      "  [ 1 13]\n",
      "  [ 2 14]\n",
      "  [ 3 15]]\n",
      "\n",
      " [[ 4 16]\n",
      "  [ 5 17]\n",
      "  [ 6 18]\n",
      "  [ 7 19]]\n",
      "\n",
      " [[ 8 20]\n",
      "  [ 9 21]\n",
      "  [10 22]\n",
      "  [11 23]]]\n"
     ]
    }
   ],
   "source": [
    "a = np.arange(20).reshape(4, 5)\n",
    "b = np.arange(24).reshape(2, 3, 4)\n",
    "\n",
    "print(a.T)\n",
    "print(a.swapaxes(0, 1))\n",
    "print(b.swapaxes(0, 1))\n",
    "\n",
    "print(b.transpose(0, 2, 1))\n",
    "print(b.transpose(1, 2, 0))"
   ]
  },
  {
   "cell_type": "code",
   "execution_count": 18,
   "metadata": {},
   "outputs": [
    {
     "name": "stdout",
     "output_type": "stream",
     "text": [
      "[2 4 6 7 8]\n",
      "[2 3 4 5 6 7 8]\n",
      "[ True  True  True False  True  True  True]\n",
      "[3]\n",
      "[3 5]\n"
     ]
    }
   ],
   "source": [
    "a = np.array([4, 2, 6, 3, 2, 7, 8])\n",
    "b = np.array([4, 5, 6, 4, 2, 8, 7])\n",
    "\n",
    "print(np.intersect1d(a, b))\n",
    "print(np.union1d(a, b))\n",
    "print(np.in1d(a, b))\n",
    "print(np.setdiff1d(a, b))\n",
    "print(np.setxor1d(a, b))"
   ]
  },
  {
   "cell_type": "code",
   "execution_count": 19,
   "metadata": {},
   "outputs": [
    {
     "name": "stdout",
     "output_type": "stream",
     "text": [
      "(3, 2) [[11 21]\n",
      " [34 43]\n",
      " [ 0  9]]\n",
      "(6,) [11 21 34 43  0  9]\n",
      "[21 43  9]\n",
      "[34 43]\n",
      "[False False  True  True False False]\n",
      "(6,) [11 21 34 43  0  9]\n"
     ]
    }
   ],
   "source": [
    "b = np.array([[11, 21], [34, 43], [0, 9]])\n",
    "print(b.shape, b)\n",
    "\n",
    "b2 = b.flatten()\n",
    "print(b2.shape, b2)\n",
    "print(b2[np.array([1, 3, 5])])\n",
    "print(b2[b2>25])\n",
    "print(b2>25)\n",
    "\n",
    "b3 = b.ravel()\n",
    "print(b3.shape, b3)"
   ]
  },
  {
   "cell_type": "code",
   "execution_count": 20,
   "metadata": {},
   "outputs": [
    {
     "name": "stdout",
     "output_type": "stream",
     "text": [
      "[2 3 5 6]\n",
      "[2 3 5 6]\n",
      "[ 0 -1 -1 -2]\n",
      "[ 0 -1 -1 -2]\n",
      "[1 2 6 8]\n",
      "[1 2 6 8]\n",
      "[1 1 2 2]\n",
      "[1.         0.5        0.66666667 0.5       ]\n",
      "[1 0 0 0]\n",
      "[1 0 0 0]\n",
      "[0 1 2 2]\n",
      "[0 1 2 2]\n",
      "[ 1  1  8 16]\n",
      "[ 1  1  8 16]\n"
     ]
    }
   ],
   "source": [
    "m = np.array([1, 1, 2, 2])\n",
    "n = np.array([1, 2, 3, 4])\n",
    "\n",
    "m2 = m.copy()\n",
    "m2 += n\n",
    "print(m2)\n",
    "print(m+n)\n",
    "\n",
    "m3 = m.copy()\n",
    "m3 -= n\n",
    "print(m3)\n",
    "print(m-n)\n",
    "\n",
    "m4 = m.copy()\n",
    "m4 *= n\n",
    "print(m4)\n",
    "print(m*n)\n",
    "\n",
    "m5 = m.copy()\n",
    "#m5 /= n\n",
    "print(m5)\n",
    "print(m/n)\n",
    "\n",
    "m6 = m.copy()\n",
    "m6 //= n\n",
    "print(m6)\n",
    "print(m//n)\n",
    "\n",
    "m7 = m.copy()\n",
    "m7 %= n\n",
    "print(m7)\n",
    "print(m%n)\n",
    "\n",
    "m8 = m.copy()\n",
    "m8 **= n\n",
    "print(m8)\n",
    "print(m**n)"
   ]
  },
  {
   "cell_type": "code",
   "execution_count": 21,
   "metadata": {},
   "outputs": [
    {
     "name": "stdout",
     "output_type": "stream",
     "text": [
      "[  0.   1.   2.  nan   4.  inf -inf  inf]\n",
      "[False False False  True False False False False]\n",
      "[False False False False False  True  True  True]\n",
      "[False False False False False False  True False]\n",
      "[False False False False False  True False  True]\n",
      "[ True  True  True False  True False False False]\n"
     ]
    }
   ],
   "source": [
    "a = np.array([0, 1, 2, np.nan, 4, np.inf, np.NINF, np.PINF])\n",
    "\n",
    "print(a)\n",
    "print(np.isnan(a))\n",
    "print(np.isinf(a))\n",
    "print(np.isneginf(a))\n",
    "print(np.isposinf(a))\n",
    "print(np.isfinite(a))"
   ]
  },
  {
   "cell_type": "code",
   "execution_count": 22,
   "metadata": {},
   "outputs": [
    {
     "name": "stdout",
     "output_type": "stream",
     "text": [
      "False\n",
      "False\n",
      "False\n",
      "True\n"
     ]
    }
   ],
   "source": [
    "print(np.isclose(3, 3.3))\n",
    "print(np.isclose(3, 3.3, 0.05))\n",
    "print(np.isclose(3, 3.002))\n",
    "print(np.isclose(3, 3.002, 0.05))"
   ]
  },
  {
   "cell_type": "code",
   "execution_count": 23,
   "metadata": {},
   "outputs": [
    {
     "name": "stdout",
     "output_type": "stream",
     "text": [
      "[ True False  True False  True False False]\n",
      "[False  True False  True False  True  True]\n",
      "[False False False False False False  True]\n",
      "[ True False  True False  True False  True]\n",
      "[False  True False  True False  True False]\n",
      "[ True  True  True  True  True  True False]\n",
      "False\n",
      "True\n"
     ]
    }
   ],
   "source": [
    "a = np.array([4, 2, 6, 3, 2, 7, 8])\n",
    "b = np.array([4, 5, 6, 4, 2, 8, 7])\n",
    "c = np.array([4, 5, 6, 4, 2, 8, 7])\n",
    "\n",
    "print(np.equal(a, b))\n",
    "print(np.not_equal(a, b))\n",
    "print(np.greater(a, b))\n",
    "print(np.greater_equal(a, b))\n",
    "print(np.less(a, b))\n",
    "print(np.less_equal(a, b))\n",
    "print(np.array_equal(a, b))\n",
    "print(np.array_equal(b, c))"
   ]
  },
  {
   "cell_type": "code",
   "execution_count": 24,
   "metadata": {},
   "outputs": [
    {
     "name": "stdout",
     "output_type": "stream",
     "text": [
      "True\n",
      "False\n"
     ]
    }
   ],
   "source": [
    "a = np.array([1, 3, 5, 7, 9, 11, 13, 15])\n",
    "\n",
    "print((a>=10).any())\n",
    "print((a>=10).all())"
   ]
  },
  {
   "cell_type": "code",
   "execution_count": 26,
   "metadata": {},
   "outputs": [
    {
     "name": "stdout",
     "output_type": "stream",
     "text": [
      "[ True  True False False]\n",
      "[ True False  True False]\n",
      "[0 1 2 3 4]\n",
      "[False False False  True  True]\n",
      "[ True False False False]\n",
      "[ True  True  True False]\n",
      "[False  True  True False]\n"
     ]
    }
   ],
   "source": [
    "a = np.array([1, 1, 0, 0], dtype=bool)\n",
    "b = np.array([1, 0, 1, 0], dtype=bool)\n",
    "c = np.array([0, 1, 2, 3, 4])\n",
    "\n",
    "print(a)\n",
    "print(b)\n",
    "print(c)\n",
    "print(np.logical_not(c<=2))\n",
    "print(np.logical_and(a, b))\n",
    "print(np.logical_or(a, b))\n",
    "print(np.logical_xor(a, b))"
   ]
  },
  {
   "cell_type": "code",
   "execution_count": 27,
   "metadata": {},
   "outputs": [
    {
     "name": "stdout",
     "output_type": "stream",
     "text": [
      "True\n",
      "False\n",
      "False\n",
      "True\n"
     ]
    }
   ],
   "source": [
    "p = \"P\"\n",
    "q = np.array([\"P\", \"Q\"])\n",
    "r = np.array([\"R\", \"S\"])\n",
    "\n",
    "print(p in q)\n",
    "print(p in r)\n",
    "print(p not in q)\n",
    "print(p not in r)"
   ]
  },
  {
   "cell_type": "code",
   "execution_count": 28,
   "metadata": {},
   "outputs": [
    {
     "name": "stdout",
     "output_type": "stream",
     "text": [
      "[[-1.74976547  0.3426804 ]\n",
      " [ 1.1530358  -0.25243604]]\n",
      "[[ 0.98132079  0.51421884]\n",
      " [ 0.22117967 -1.07004333]]\n",
      "[[-1.71708123  0.17621272]\n",
      " [ 0.25502808  0.2701175 ]]\n",
      "[[-1.71708123  0.17621272]\n",
      " [ 0.25502808  0.2701175 ]]\n",
      "[[-1.64128729 -1.26644525]\n",
      " [ 1.07566428  0.86303023]]\n"
     ]
    }
   ],
   "source": [
    "np.random.seed(100)\n",
    "a = np.random.randn(4).reshape(2, 2)\n",
    "b = np.random.randn(4).reshape(2, 2)\n",
    "\n",
    "print(a)\n",
    "print(b)\n",
    "print(a*b)\n",
    "print(np.multiply(a, b))\n",
    "print(np.dot(a, b))"
   ]
  },
  {
   "cell_type": "code",
   "execution_count": 30,
   "metadata": {},
   "outputs": [
    {
     "name": "stdout",
     "output_type": "stream",
     "text": [
      "0.17452725473362557\n",
      "[-2.01754224 -0.08650488]\n",
      "[-0.59961034 -0.29106779]\n"
     ]
    }
   ],
   "source": [
    "print(np.prod(a))\n",
    "print(np.prod(a, axis=0))\n",
    "print(np.prod(a, axis=1))"
   ]
  },
  {
   "cell_type": "code",
   "execution_count": 32,
   "metadata": {},
   "outputs": [
    {
     "name": "stdout",
     "output_type": "stream",
     "text": [
      "[[1 0 0 0]\n",
      " [0 2 0 0]\n",
      " [0 0 3 0]\n",
      " [0 0 0 4]]\n",
      "[[1 0 0 0]\n",
      " [0 2 0 0]\n",
      " [0 0 3 0]\n",
      " [0 0 0 4]]\n"
     ]
    }
   ],
   "source": [
    "print(np.diag(np.array([1, 2, 3, 4])))\n",
    "print(np.diag(1+np.arange(4)))"
   ]
  },
  {
   "cell_type": "code",
   "execution_count": 37,
   "metadata": {},
   "outputs": [
    {
     "name": "stdout",
     "output_type": "stream",
     "text": [
      "30\n",
      "[36 39 42]\n"
     ]
    }
   ],
   "source": [
    "c = np.arange(16).reshape(4, 4)\n",
    "d = np.arange(27).reshape(3, 3, 3)\n",
    "\n",
    "#trace : 대각합\n",
    "print(np.trace(c))\n",
    "print(np.trace(d))"
   ]
  },
  {
   "cell_type": "code",
   "execution_count": 38,
   "metadata": {},
   "outputs": [
    {
     "name": "stdout",
     "output_type": "stream",
     "text": [
      "-2.0000000000000004\n"
     ]
    }
   ],
   "source": [
    "e = np.array([[1,2],[3,4]])\n",
    "print(np.linalg.det(e))\n",
    "#linalg.det : 행렬식"
   ]
  },
  {
   "cell_type": "code",
   "execution_count": 39,
   "metadata": {},
   "outputs": [
    {
     "name": "stdout",
     "output_type": "stream",
     "text": [
      "[2. 5.]\n",
      "True\n"
     ]
    }
   ],
   "source": [
    "a = np.array([[4,3],[3,2]])\n",
    "b = np.array([23,16])\n",
    "x = np.linalg.solve(a,b)\n",
    "\n",
    "#linalg.solve : 연립방정식 해\n",
    "print(x)\n",
    "print(np.allclose(np.dot(a,x),b))"
   ]
  },
  {
   "cell_type": "code",
   "execution_count": 41,
   "metadata": {},
   "outputs": [
    {
     "name": "stdout",
     "output_type": "stream",
     "text": [
      "(4, 3)\n",
      "(3,)\n",
      "[[ 0  2  4]\n",
      " [ 3  5  7]\n",
      " [ 6  8 10]\n",
      " [ 9 11 13]]\n",
      "(4,)\n",
      "(4, 1)\n",
      "[[ 0  1  2]\n",
      " [ 4  5  6]\n",
      " [ 8  9 10]\n",
      " [12 13 14]]\n"
     ]
    }
   ],
   "source": [
    "a = np.arange(12).reshape((4,3))\n",
    "b = np.array([0,1,2])\n",
    "c = np.array([0,1,2,3])\n",
    "d = np.array([0,1,2,3]).reshape(4,1)\n",
    "\n",
    "print(a.shape)\n",
    "print(b.shape)\n",
    "print(a+b)\n",
    "\n",
    "print(c.shape)\n",
    "#print(a+c)\n",
    "\n",
    "print(d.shape)\n",
    "print(a+d)"
   ]
  },
  {
   "cell_type": "code",
   "execution_count": 43,
   "metadata": {},
   "outputs": [
    {
     "name": "stdout",
     "output_type": "stream",
     "text": [
      "(2, 3, 4)\n",
      "(4, 3)\n"
     ]
    }
   ],
   "source": [
    "e = np.arange(24).reshape(2, 3, 4)\n",
    "f = np.ones((4, 3))\n",
    "\n",
    "print(e.shape)\n",
    "print(f.shape)\n",
    "#print(e+f)"
   ]
  },
  {
   "cell_type": "code",
   "execution_count": null,
   "metadata": {},
   "outputs": [],
   "source": []
  }
 ],
 "metadata": {
  "kernelspec": {
   "display_name": "Python 3",
   "language": "python",
   "name": "python3"
  },
  "language_info": {
   "codemirror_mode": {
    "name": "ipython",
    "version": 3
   },
   "file_extension": ".py",
   "mimetype": "text/x-python",
   "name": "python",
   "nbconvert_exporter": "python",
   "pygments_lexer": "ipython3",
   "version": "3.8.5"
  }
 },
 "nbformat": 4,
 "nbformat_minor": 4
}
